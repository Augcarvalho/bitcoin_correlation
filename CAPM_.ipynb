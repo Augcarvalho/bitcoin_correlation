{
 "cells": [
  {
   "cell_type": "code",
   "execution_count": 3,
   "metadata": {},
   "outputs": [],
   "source": [
    "import pandas as pd\n",
    "import numpy as np\n",
    "import yfinance as yf\n",
    "import matplotlib.pyplot as plt"
   ]
  },
  {
   "cell_type": "code",
   "execution_count": 4,
   "metadata": {
    "colab": {
     "base_uri": "https://localhost:8080/",
     "height": 447
    },
    "id": "rKFI2Cr9CSD9",
    "outputId": "2eb2d95b-3eba-4c87-f922-a4e9b4e8cb56"
   },
   "outputs": [
    {
     "name": "stderr",
     "output_type": "stream",
     "text": [
      "[*********************100%%**********************]  7 of 7 completed\n"
     ]
    },
    {
     "data": {
      "text/html": [
       "<div>\n",
       "<style scoped>\n",
       "    .dataframe tbody tr th:only-of-type {\n",
       "        vertical-align: middle;\n",
       "    }\n",
       "\n",
       "    .dataframe tbody tr th {\n",
       "        vertical-align: top;\n",
       "    }\n",
       "\n",
       "    .dataframe thead th {\n",
       "        text-align: right;\n",
       "    }\n",
       "</style>\n",
       "<table border=\"1\" class=\"dataframe\">\n",
       "  <thead>\n",
       "    <tr style=\"text-align: right;\">\n",
       "      <th>Ticker</th>\n",
       "      <th>EGIE3.SA</th>\n",
       "      <th>ITUB4.SA</th>\n",
       "      <th>LEVE3.SA</th>\n",
       "      <th>PETR4.SA</th>\n",
       "      <th>VALE3.SA</th>\n",
       "      <th>WEGE3.SA</th>\n",
       "      <th>IBOVESPA</th>\n",
       "    </tr>\n",
       "    <tr>\n",
       "      <th>Date</th>\n",
       "      <th></th>\n",
       "      <th></th>\n",
       "      <th></th>\n",
       "      <th></th>\n",
       "      <th></th>\n",
       "      <th></th>\n",
       "      <th></th>\n",
       "    </tr>\n",
       "  </thead>\n",
       "  <tbody>\n",
       "    <tr>\n",
       "      <th>2019-01-02</th>\n",
       "      <td>24.303656</td>\n",
       "      <td>29.070139</td>\n",
       "      <td>15.338504</td>\n",
       "      <td>8.039105</td>\n",
       "      <td>32.182259</td>\n",
       "      <td>8.256762</td>\n",
       "      <td>91012.0</td>\n",
       "    </tr>\n",
       "    <tr>\n",
       "      <th>2019-01-03</th>\n",
       "      <td>25.100960</td>\n",
       "      <td>29.549416</td>\n",
       "      <td>15.299004</td>\n",
       "      <td>8.236240</td>\n",
       "      <td>30.865744</td>\n",
       "      <td>8.445041</td>\n",
       "      <td>91564.0</td>\n",
       "    </tr>\n",
       "    <tr>\n",
       "      <th>2019-01-04</th>\n",
       "      <td>25.639866</td>\n",
       "      <td>29.054428</td>\n",
       "      <td>15.322715</td>\n",
       "      <td>8.259630</td>\n",
       "      <td>32.875160</td>\n",
       "      <td>8.541478</td>\n",
       "      <td>91841.0</td>\n",
       "    </tr>\n",
       "    <tr>\n",
       "      <th>2019-01-07</th>\n",
       "      <td>25.481062</td>\n",
       "      <td>29.109434</td>\n",
       "      <td>15.304929</td>\n",
       "      <td>8.389941</td>\n",
       "      <td>32.698780</td>\n",
       "      <td>8.408301</td>\n",
       "      <td>91699.0</td>\n",
       "    </tr>\n",
       "    <tr>\n",
       "      <th>2019-01-08</th>\n",
       "      <td>25.769798</td>\n",
       "      <td>29.478703</td>\n",
       "      <td>15.500538</td>\n",
       "      <td>8.339822</td>\n",
       "      <td>33.013748</td>\n",
       "      <td>8.339417</td>\n",
       "      <td>92032.0</td>\n",
       "    </tr>\n",
       "    <tr>\n",
       "      <th>...</th>\n",
       "      <td>...</td>\n",
       "      <td>...</td>\n",
       "      <td>...</td>\n",
       "      <td>...</td>\n",
       "      <td>...</td>\n",
       "      <td>...</td>\n",
       "      <td>...</td>\n",
       "    </tr>\n",
       "    <tr>\n",
       "      <th>2024-11-29</th>\n",
       "      <td>38.000000</td>\n",
       "      <td>32.582348</td>\n",
       "      <td>27.129999</td>\n",
       "      <td>38.900002</td>\n",
       "      <td>58.779999</td>\n",
       "      <td>53.939999</td>\n",
       "      <td>125668.0</td>\n",
       "    </tr>\n",
       "    <tr>\n",
       "      <th>2024-12-02</th>\n",
       "      <td>37.360001</td>\n",
       "      <td>32.119999</td>\n",
       "      <td>26.879999</td>\n",
       "      <td>39.150002</td>\n",
       "      <td>58.919998</td>\n",
       "      <td>53.849998</td>\n",
       "      <td>125236.0</td>\n",
       "    </tr>\n",
       "    <tr>\n",
       "      <th>2024-12-03</th>\n",
       "      <td>37.820000</td>\n",
       "      <td>32.480000</td>\n",
       "      <td>26.450001</td>\n",
       "      <td>39.500000</td>\n",
       "      <td>58.470001</td>\n",
       "      <td>54.599998</td>\n",
       "      <td>126139.0</td>\n",
       "    </tr>\n",
       "    <tr>\n",
       "      <th>2024-12-04</th>\n",
       "      <td>37.889999</td>\n",
       "      <td>32.680000</td>\n",
       "      <td>26.990000</td>\n",
       "      <td>39.250000</td>\n",
       "      <td>57.330002</td>\n",
       "      <td>55.000000</td>\n",
       "      <td>126087.0</td>\n",
       "    </tr>\n",
       "    <tr>\n",
       "      <th>2024-12-05</th>\n",
       "      <td>38.290001</td>\n",
       "      <td>33.380001</td>\n",
       "      <td>27.740000</td>\n",
       "      <td>39.639999</td>\n",
       "      <td>57.799999</td>\n",
       "      <td>54.930000</td>\n",
       "      <td>127858.0</td>\n",
       "    </tr>\n",
       "  </tbody>\n",
       "</table>\n",
       "<p>1477 rows × 7 columns</p>\n",
       "</div>"
      ],
      "text/plain": [
       "Ticker       EGIE3.SA   ITUB4.SA   LEVE3.SA   PETR4.SA   VALE3.SA   WEGE3.SA  \\\n",
       "Date                                                                           \n",
       "2019-01-02  24.303656  29.070139  15.338504   8.039105  32.182259   8.256762   \n",
       "2019-01-03  25.100960  29.549416  15.299004   8.236240  30.865744   8.445041   \n",
       "2019-01-04  25.639866  29.054428  15.322715   8.259630  32.875160   8.541478   \n",
       "2019-01-07  25.481062  29.109434  15.304929   8.389941  32.698780   8.408301   \n",
       "2019-01-08  25.769798  29.478703  15.500538   8.339822  33.013748   8.339417   \n",
       "...               ...        ...        ...        ...        ...        ...   \n",
       "2024-11-29  38.000000  32.582348  27.129999  38.900002  58.779999  53.939999   \n",
       "2024-12-02  37.360001  32.119999  26.879999  39.150002  58.919998  53.849998   \n",
       "2024-12-03  37.820000  32.480000  26.450001  39.500000  58.470001  54.599998   \n",
       "2024-12-04  37.889999  32.680000  26.990000  39.250000  57.330002  55.000000   \n",
       "2024-12-05  38.290001  33.380001  27.740000  39.639999  57.799999  54.930000   \n",
       "\n",
       "Ticker      IBOVESPA  \n",
       "Date                  \n",
       "2019-01-02   91012.0  \n",
       "2019-01-03   91564.0  \n",
       "2019-01-04   91841.0  \n",
       "2019-01-07   91699.0  \n",
       "2019-01-08   92032.0  \n",
       "...              ...  \n",
       "2024-11-29  125668.0  \n",
       "2024-12-02  125236.0  \n",
       "2024-12-03  126139.0  \n",
       "2024-12-04  126087.0  \n",
       "2024-12-05  127858.0  \n",
       "\n",
       "[1477 rows x 7 columns]"
      ]
     },
     "execution_count": 4,
     "metadata": {},
     "output_type": "execute_result"
    }
   ],
   "source": [
    "#data download\n",
    "tickers = ['ITUB4.SA', 'EGIE3.SA', 'LEVE3.SA', 'WEGE3.SA', 'VALE3.SA', 'PETR4.SA', '^BVSP']\n",
    "dataset = yf.download(tickers, start = '2019-01-01')['Adj Close']\n",
    "dataset = dataset.rename(columns={'^BVSP': 'IBOVESPA'})\n",
    "dataset"
   ]
  },
  {
   "cell_type": "code",
   "execution_count": 5,
   "metadata": {
    "colab": {
     "base_uri": "https://localhost:8080/",
     "height": 447
    },
    "id": "cDdmmqi3DFqF",
    "outputId": "e7149e38-4ec9-4031-ece6-27f424bc6a62"
   },
   "outputs": [
    {
     "name": "stderr",
     "output_type": "stream",
     "text": [
      "C:\\Users\\Augusto\\AppData\\Local\\Temp\\ipykernel_360\\2740472185.py:4: FutureWarning: Series.__getitem__ treating keys as positions is deprecated. In a future version, integer keys will always be treated as labels (consistent with DataFrame behavior). To access a value by position, use `ser.iloc[pos]`\n",
      "  dataset_normalized[i] = dataset[i] / dataset[i][0]\n"
     ]
    },
    {
     "data": {
      "text/html": [
       "<div>\n",
       "<style scoped>\n",
       "    .dataframe tbody tr th:only-of-type {\n",
       "        vertical-align: middle;\n",
       "    }\n",
       "\n",
       "    .dataframe tbody tr th {\n",
       "        vertical-align: top;\n",
       "    }\n",
       "\n",
       "    .dataframe thead th {\n",
       "        text-align: right;\n",
       "    }\n",
       "</style>\n",
       "<table border=\"1\" class=\"dataframe\">\n",
       "  <thead>\n",
       "    <tr style=\"text-align: right;\">\n",
       "      <th>Ticker</th>\n",
       "      <th>EGIE3.SA</th>\n",
       "      <th>ITUB4.SA</th>\n",
       "      <th>LEVE3.SA</th>\n",
       "      <th>PETR4.SA</th>\n",
       "      <th>VALE3.SA</th>\n",
       "      <th>WEGE3.SA</th>\n",
       "      <th>IBOVESPA</th>\n",
       "    </tr>\n",
       "    <tr>\n",
       "      <th>Date</th>\n",
       "      <th></th>\n",
       "      <th></th>\n",
       "      <th></th>\n",
       "      <th></th>\n",
       "      <th></th>\n",
       "      <th></th>\n",
       "      <th></th>\n",
       "    </tr>\n",
       "  </thead>\n",
       "  <tbody>\n",
       "    <tr>\n",
       "      <th>2019-01-02</th>\n",
       "      <td>1.000000</td>\n",
       "      <td>1.000000</td>\n",
       "      <td>1.000000</td>\n",
       "      <td>1.000000</td>\n",
       "      <td>1.000000</td>\n",
       "      <td>1.000000</td>\n",
       "      <td>1.000000</td>\n",
       "    </tr>\n",
       "    <tr>\n",
       "      <th>2019-01-03</th>\n",
       "      <td>1.032806</td>\n",
       "      <td>1.016487</td>\n",
       "      <td>0.997425</td>\n",
       "      <td>1.024522</td>\n",
       "      <td>0.959092</td>\n",
       "      <td>1.022803</td>\n",
       "      <td>1.006065</td>\n",
       "    </tr>\n",
       "    <tr>\n",
       "      <th>2019-01-04</th>\n",
       "      <td>1.054980</td>\n",
       "      <td>0.999460</td>\n",
       "      <td>0.998971</td>\n",
       "      <td>1.027432</td>\n",
       "      <td>1.021531</td>\n",
       "      <td>1.034483</td>\n",
       "      <td>1.009109</td>\n",
       "    </tr>\n",
       "    <tr>\n",
       "      <th>2019-01-07</th>\n",
       "      <td>1.048446</td>\n",
       "      <td>1.001352</td>\n",
       "      <td>0.997811</td>\n",
       "      <td>1.043641</td>\n",
       "      <td>1.016050</td>\n",
       "      <td>1.018353</td>\n",
       "      <td>1.007548</td>\n",
       "    </tr>\n",
       "    <tr>\n",
       "      <th>2019-01-08</th>\n",
       "      <td>1.060326</td>\n",
       "      <td>1.014054</td>\n",
       "      <td>1.010564</td>\n",
       "      <td>1.037407</td>\n",
       "      <td>1.025837</td>\n",
       "      <td>1.010011</td>\n",
       "      <td>1.011207</td>\n",
       "    </tr>\n",
       "    <tr>\n",
       "      <th>...</th>\n",
       "      <td>...</td>\n",
       "      <td>...</td>\n",
       "      <td>...</td>\n",
       "      <td>...</td>\n",
       "      <td>...</td>\n",
       "      <td>...</td>\n",
       "      <td>...</td>\n",
       "    </tr>\n",
       "    <tr>\n",
       "      <th>2024-11-29</th>\n",
       "      <td>1.563551</td>\n",
       "      <td>1.120818</td>\n",
       "      <td>1.768751</td>\n",
       "      <td>4.838847</td>\n",
       "      <td>1.826472</td>\n",
       "      <td>6.532827</td>\n",
       "      <td>1.380785</td>\n",
       "    </tr>\n",
       "    <tr>\n",
       "      <th>2024-12-02</th>\n",
       "      <td>1.537217</td>\n",
       "      <td>1.104914</td>\n",
       "      <td>1.752452</td>\n",
       "      <td>4.869945</td>\n",
       "      <td>1.830822</td>\n",
       "      <td>6.521927</td>\n",
       "      <td>1.376038</td>\n",
       "    </tr>\n",
       "    <tr>\n",
       "      <th>2024-12-03</th>\n",
       "      <td>1.556144</td>\n",
       "      <td>1.117298</td>\n",
       "      <td>1.724419</td>\n",
       "      <td>4.913482</td>\n",
       "      <td>1.816840</td>\n",
       "      <td>6.612762</td>\n",
       "      <td>1.385960</td>\n",
       "    </tr>\n",
       "    <tr>\n",
       "      <th>2024-12-04</th>\n",
       "      <td>1.559025</td>\n",
       "      <td>1.124178</td>\n",
       "      <td>1.759624</td>\n",
       "      <td>4.882384</td>\n",
       "      <td>1.781416</td>\n",
       "      <td>6.661207</td>\n",
       "      <td>1.385389</td>\n",
       "    </tr>\n",
       "    <tr>\n",
       "      <th>2024-12-05</th>\n",
       "      <td>1.575483</td>\n",
       "      <td>1.148257</td>\n",
       "      <td>1.808521</td>\n",
       "      <td>4.930897</td>\n",
       "      <td>1.796021</td>\n",
       "      <td>6.652729</td>\n",
       "      <td>1.404848</td>\n",
       "    </tr>\n",
       "  </tbody>\n",
       "</table>\n",
       "<p>1477 rows × 7 columns</p>\n",
       "</div>"
      ],
      "text/plain": [
       "Ticker      EGIE3.SA  ITUB4.SA  LEVE3.SA  PETR4.SA  VALE3.SA  WEGE3.SA  \\\n",
       "Date                                                                     \n",
       "2019-01-02  1.000000  1.000000  1.000000  1.000000  1.000000  1.000000   \n",
       "2019-01-03  1.032806  1.016487  0.997425  1.024522  0.959092  1.022803   \n",
       "2019-01-04  1.054980  0.999460  0.998971  1.027432  1.021531  1.034483   \n",
       "2019-01-07  1.048446  1.001352  0.997811  1.043641  1.016050  1.018353   \n",
       "2019-01-08  1.060326  1.014054  1.010564  1.037407  1.025837  1.010011   \n",
       "...              ...       ...       ...       ...       ...       ...   \n",
       "2024-11-29  1.563551  1.120818  1.768751  4.838847  1.826472  6.532827   \n",
       "2024-12-02  1.537217  1.104914  1.752452  4.869945  1.830822  6.521927   \n",
       "2024-12-03  1.556144  1.117298  1.724419  4.913482  1.816840  6.612762   \n",
       "2024-12-04  1.559025  1.124178  1.759624  4.882384  1.781416  6.661207   \n",
       "2024-12-05  1.575483  1.148257  1.808521  4.930897  1.796021  6.652729   \n",
       "\n",
       "Ticker      IBOVESPA  \n",
       "Date                  \n",
       "2019-01-02  1.000000  \n",
       "2019-01-03  1.006065  \n",
       "2019-01-04  1.009109  \n",
       "2019-01-07  1.007548  \n",
       "2019-01-08  1.011207  \n",
       "...              ...  \n",
       "2024-11-29  1.380785  \n",
       "2024-12-02  1.376038  \n",
       "2024-12-03  1.385960  \n",
       "2024-12-04  1.385389  \n",
       "2024-12-05  1.404848  \n",
       "\n",
       "[1477 rows x 7 columns]"
      ]
     },
     "execution_count": 5,
     "metadata": {},
     "output_type": "execute_result"
    }
   ],
   "source": [
    "#normalizing the dataset\n",
    "dataset_normalized = dataset.copy()\n",
    "for i in dataset.columns:\n",
    "  dataset_normalized[i] = dataset[i] / dataset[i][0]\n",
    "dataset_normalized"
   ]
  },
  {
   "cell_type": "code",
   "execution_count": 6,
   "metadata": {
    "colab": {
     "base_uri": "https://localhost:8080/",
     "height": 447
    },
    "id": "I5mjlNYnDfrJ",
    "outputId": "4a63ba4d-4e25-4203-b5e8-83a40285d800"
   },
   "outputs": [
    {
     "data": {
      "text/html": [
       "<div>\n",
       "<style scoped>\n",
       "    .dataframe tbody tr th:only-of-type {\n",
       "        vertical-align: middle;\n",
       "    }\n",
       "\n",
       "    .dataframe tbody tr th {\n",
       "        vertical-align: top;\n",
       "    }\n",
       "\n",
       "    .dataframe thead th {\n",
       "        text-align: right;\n",
       "    }\n",
       "</style>\n",
       "<table border=\"1\" class=\"dataframe\">\n",
       "  <thead>\n",
       "    <tr style=\"text-align: right;\">\n",
       "      <th>Ticker</th>\n",
       "      <th>EGIE3.SA</th>\n",
       "      <th>ITUB4.SA</th>\n",
       "      <th>LEVE3.SA</th>\n",
       "      <th>PETR4.SA</th>\n",
       "      <th>VALE3.SA</th>\n",
       "      <th>WEGE3.SA</th>\n",
       "      <th>IBOVESPA</th>\n",
       "    </tr>\n",
       "    <tr>\n",
       "      <th>Date</th>\n",
       "      <th></th>\n",
       "      <th></th>\n",
       "      <th></th>\n",
       "      <th></th>\n",
       "      <th></th>\n",
       "      <th></th>\n",
       "      <th></th>\n",
       "    </tr>\n",
       "  </thead>\n",
       "  <tbody>\n",
       "    <tr>\n",
       "      <th>2019-01-02</th>\n",
       "      <td>NaN</td>\n",
       "      <td>NaN</td>\n",
       "      <td>NaN</td>\n",
       "      <td>NaN</td>\n",
       "      <td>NaN</td>\n",
       "      <td>NaN</td>\n",
       "      <td>NaN</td>\n",
       "    </tr>\n",
       "    <tr>\n",
       "      <th>2019-01-03</th>\n",
       "      <td>0.032806</td>\n",
       "      <td>0.016487</td>\n",
       "      <td>-0.002575</td>\n",
       "      <td>0.024522</td>\n",
       "      <td>-0.040908</td>\n",
       "      <td>0.022803</td>\n",
       "      <td>0.006065</td>\n",
       "    </tr>\n",
       "    <tr>\n",
       "      <th>2019-01-04</th>\n",
       "      <td>0.021470</td>\n",
       "      <td>-0.016751</td>\n",
       "      <td>0.001550</td>\n",
       "      <td>0.002840</td>\n",
       "      <td>0.065102</td>\n",
       "      <td>0.011419</td>\n",
       "      <td>0.003025</td>\n",
       "    </tr>\n",
       "    <tr>\n",
       "      <th>2019-01-07</th>\n",
       "      <td>-0.006194</td>\n",
       "      <td>0.001893</td>\n",
       "      <td>-0.001161</td>\n",
       "      <td>0.015777</td>\n",
       "      <td>-0.005365</td>\n",
       "      <td>-0.015592</td>\n",
       "      <td>-0.001546</td>\n",
       "    </tr>\n",
       "    <tr>\n",
       "      <th>2019-01-08</th>\n",
       "      <td>0.011331</td>\n",
       "      <td>0.012686</td>\n",
       "      <td>0.012781</td>\n",
       "      <td>-0.005974</td>\n",
       "      <td>0.009632</td>\n",
       "      <td>-0.008192</td>\n",
       "      <td>0.003631</td>\n",
       "    </tr>\n",
       "    <tr>\n",
       "      <th>...</th>\n",
       "      <td>...</td>\n",
       "      <td>...</td>\n",
       "      <td>...</td>\n",
       "      <td>...</td>\n",
       "      <td>...</td>\n",
       "      <td>...</td>\n",
       "      <td>...</td>\n",
       "    </tr>\n",
       "    <tr>\n",
       "      <th>2024-11-29</th>\n",
       "      <td>0.011984</td>\n",
       "      <td>-0.002448</td>\n",
       "      <td>0.013827</td>\n",
       "      <td>0.008033</td>\n",
       "      <td>0.021728</td>\n",
       "      <td>0.019467</td>\n",
       "      <td>0.008490</td>\n",
       "    </tr>\n",
       "    <tr>\n",
       "      <th>2024-12-02</th>\n",
       "      <td>-0.016842</td>\n",
       "      <td>-0.014190</td>\n",
       "      <td>-0.009215</td>\n",
       "      <td>0.006427</td>\n",
       "      <td>0.002382</td>\n",
       "      <td>-0.001669</td>\n",
       "      <td>-0.003438</td>\n",
       "    </tr>\n",
       "    <tr>\n",
       "      <th>2024-12-03</th>\n",
       "      <td>0.012313</td>\n",
       "      <td>0.011208</td>\n",
       "      <td>-0.015997</td>\n",
       "      <td>0.008940</td>\n",
       "      <td>-0.007637</td>\n",
       "      <td>0.013928</td>\n",
       "      <td>0.007210</td>\n",
       "    </tr>\n",
       "    <tr>\n",
       "      <th>2024-12-04</th>\n",
       "      <td>0.001851</td>\n",
       "      <td>0.006158</td>\n",
       "      <td>0.020416</td>\n",
       "      <td>-0.006329</td>\n",
       "      <td>-0.019497</td>\n",
       "      <td>0.007326</td>\n",
       "      <td>-0.000412</td>\n",
       "    </tr>\n",
       "    <tr>\n",
       "      <th>2024-12-05</th>\n",
       "      <td>0.010557</td>\n",
       "      <td>0.021420</td>\n",
       "      <td>0.027788</td>\n",
       "      <td>0.009936</td>\n",
       "      <td>0.008198</td>\n",
       "      <td>-0.001273</td>\n",
       "      <td>0.014046</td>\n",
       "    </tr>\n",
       "  </tbody>\n",
       "</table>\n",
       "<p>1477 rows × 7 columns</p>\n",
       "</div>"
      ],
      "text/plain": [
       "Ticker      EGIE3.SA  ITUB4.SA  LEVE3.SA  PETR4.SA  VALE3.SA  WEGE3.SA  \\\n",
       "Date                                                                     \n",
       "2019-01-02       NaN       NaN       NaN       NaN       NaN       NaN   \n",
       "2019-01-03  0.032806  0.016487 -0.002575  0.024522 -0.040908  0.022803   \n",
       "2019-01-04  0.021470 -0.016751  0.001550  0.002840  0.065102  0.011419   \n",
       "2019-01-07 -0.006194  0.001893 -0.001161  0.015777 -0.005365 -0.015592   \n",
       "2019-01-08  0.011331  0.012686  0.012781 -0.005974  0.009632 -0.008192   \n",
       "...              ...       ...       ...       ...       ...       ...   \n",
       "2024-11-29  0.011984 -0.002448  0.013827  0.008033  0.021728  0.019467   \n",
       "2024-12-02 -0.016842 -0.014190 -0.009215  0.006427  0.002382 -0.001669   \n",
       "2024-12-03  0.012313  0.011208 -0.015997  0.008940 -0.007637  0.013928   \n",
       "2024-12-04  0.001851  0.006158  0.020416 -0.006329 -0.019497  0.007326   \n",
       "2024-12-05  0.010557  0.021420  0.027788  0.009936  0.008198 -0.001273   \n",
       "\n",
       "Ticker      IBOVESPA  \n",
       "Date                  \n",
       "2019-01-02       NaN  \n",
       "2019-01-03  0.006065  \n",
       "2019-01-04  0.003025  \n",
       "2019-01-07 -0.001546  \n",
       "2019-01-08  0.003631  \n",
       "...              ...  \n",
       "2024-11-29  0.008490  \n",
       "2024-12-02 -0.003438  \n",
       "2024-12-03  0.007210  \n",
       "2024-12-04 -0.000412  \n",
       "2024-12-05  0.014046  \n",
       "\n",
       "[1477 rows x 7 columns]"
      ]
     },
     "execution_count": 6,
     "metadata": {},
     "output_type": "execute_result"
    }
   ],
   "source": [
    "#return rates\n",
    "dataset_return = (dataset_normalized / dataset_normalized.shift(1)) - 1\n",
    "dataset_return"
   ]
  },
  {
   "cell_type": "code",
   "execution_count": 7,
   "metadata": {
    "colab": {
     "base_uri": "https://localhost:8080/",
     "height": 228
    },
    "id": "w663mVkOI8YI",
    "outputId": "1e047c1c-d399-4624-81fb-6b40bffca689"
   },
   "outputs": [
    {
     "data": {
      "text/html": [
       "<div>\n",
       "<style scoped>\n",
       "    .dataframe tbody tr th:only-of-type {\n",
       "        vertical-align: middle;\n",
       "    }\n",
       "\n",
       "    .dataframe tbody tr th {\n",
       "        vertical-align: top;\n",
       "    }\n",
       "\n",
       "    .dataframe thead th {\n",
       "        text-align: right;\n",
       "    }\n",
       "</style>\n",
       "<table border=\"1\" class=\"dataframe\">\n",
       "  <thead>\n",
       "    <tr style=\"text-align: right;\">\n",
       "      <th>Ticker</th>\n",
       "      <th>EGIE3.SA</th>\n",
       "      <th>ITUB4.SA</th>\n",
       "      <th>LEVE3.SA</th>\n",
       "      <th>PETR4.SA</th>\n",
       "      <th>VALE3.SA</th>\n",
       "      <th>WEGE3.SA</th>\n",
       "      <th>IBOVESPA</th>\n",
       "    </tr>\n",
       "    <tr>\n",
       "      <th>Date</th>\n",
       "      <th></th>\n",
       "      <th></th>\n",
       "      <th></th>\n",
       "      <th></th>\n",
       "      <th></th>\n",
       "      <th></th>\n",
       "      <th></th>\n",
       "    </tr>\n",
       "  </thead>\n",
       "  <tbody>\n",
       "    <tr>\n",
       "      <th>2019-01-02</th>\n",
       "      <td>0.000000</td>\n",
       "      <td>0.000000</td>\n",
       "      <td>0.000000</td>\n",
       "      <td>0.000000</td>\n",
       "      <td>0.000000</td>\n",
       "      <td>0.000000</td>\n",
       "      <td>0.000000</td>\n",
       "    </tr>\n",
       "    <tr>\n",
       "      <th>2019-01-03</th>\n",
       "      <td>0.032806</td>\n",
       "      <td>0.016487</td>\n",
       "      <td>-0.002575</td>\n",
       "      <td>0.024522</td>\n",
       "      <td>-0.040908</td>\n",
       "      <td>0.022803</td>\n",
       "      <td>0.006065</td>\n",
       "    </tr>\n",
       "    <tr>\n",
       "      <th>2019-01-04</th>\n",
       "      <td>0.021470</td>\n",
       "      <td>-0.016751</td>\n",
       "      <td>0.001550</td>\n",
       "      <td>0.002840</td>\n",
       "      <td>0.065102</td>\n",
       "      <td>0.011419</td>\n",
       "      <td>0.003025</td>\n",
       "    </tr>\n",
       "    <tr>\n",
       "      <th>2019-01-07</th>\n",
       "      <td>-0.006194</td>\n",
       "      <td>0.001893</td>\n",
       "      <td>-0.001161</td>\n",
       "      <td>0.015777</td>\n",
       "      <td>-0.005365</td>\n",
       "      <td>-0.015592</td>\n",
       "      <td>-0.001546</td>\n",
       "    </tr>\n",
       "    <tr>\n",
       "      <th>2019-01-08</th>\n",
       "      <td>0.011331</td>\n",
       "      <td>0.012686</td>\n",
       "      <td>0.012781</td>\n",
       "      <td>-0.005974</td>\n",
       "      <td>0.009632</td>\n",
       "      <td>-0.008192</td>\n",
       "      <td>0.003631</td>\n",
       "    </tr>\n",
       "  </tbody>\n",
       "</table>\n",
       "</div>"
      ],
      "text/plain": [
       "Ticker      EGIE3.SA  ITUB4.SA  LEVE3.SA  PETR4.SA  VALE3.SA  WEGE3.SA  \\\n",
       "Date                                                                     \n",
       "2019-01-02  0.000000  0.000000  0.000000  0.000000  0.000000  0.000000   \n",
       "2019-01-03  0.032806  0.016487 -0.002575  0.024522 -0.040908  0.022803   \n",
       "2019-01-04  0.021470 -0.016751  0.001550  0.002840  0.065102  0.011419   \n",
       "2019-01-07 -0.006194  0.001893 -0.001161  0.015777 -0.005365 -0.015592   \n",
       "2019-01-08  0.011331  0.012686  0.012781 -0.005974  0.009632 -0.008192   \n",
       "\n",
       "Ticker      IBOVESPA  \n",
       "Date                  \n",
       "2019-01-02  0.000000  \n",
       "2019-01-03  0.006065  \n",
       "2019-01-04  0.003025  \n",
       "2019-01-07 -0.001546  \n",
       "2019-01-08  0.003631  "
      ]
     },
     "execution_count": 7,
     "metadata": {},
     "output_type": "execute_result"
    }
   ],
   "source": [
    "#fill na data\n",
    "dataset_return.fillna(0, inplace=True)\n",
    "dataset_return.head()"
   ]
  },
  {
   "cell_type": "code",
   "execution_count": 8,
   "metadata": {
    "colab": {
     "base_uri": "https://localhost:8080/"
    },
    "id": "bvY-TrLzEENP",
    "outputId": "87043a0d-d6cf-424c-c023-9c4d89340527"
   },
   "outputs": [
    {
     "data": {
      "text/plain": [
       "Ticker\n",
       "EGIE3.SA    0.104921\n",
       "ITUB4.SA    0.071897\n",
       "LEVE3.SA    0.178469\n",
       "PETR4.SA    0.365278\n",
       "VALE3.SA    0.172206\n",
       "WEGE3.SA    0.389621\n",
       "IBOVESPA    0.088789\n",
       "dtype: float64"
      ]
     },
     "execution_count": 8,
     "metadata": {},
     "output_type": "execute_result"
    }
   ],
   "source": [
    "#mean returns based on 252 trading days in a year\n",
    "dataset_return.mean() * 252"
   ]
  },
  {
   "cell_type": "code",
   "execution_count": 9,
   "metadata": {
    "colab": {
     "base_uri": "https://localhost:8080/",
     "height": 563
    },
    "id": "qoYGH4-VBS9c",
    "outputId": "015e872a-9791-44e9-fcef-58210b2a9957"
   },
   "outputs": [
    {
     "data": {
      "image/png": "[encoded data removed]",
      "text/plain": [
       "<Figure size 1000x600 with 1 Axes>"
      ]
     },
     "metadata": {},
     "output_type": "display_data"
    }
   ],
   "source": [
    "#plot\n",
    "plt.figure(figsize=(10, 6))\n",
    "plt.scatter(dataset_return['IBOVESPA'], dataset_return['WEGE3.SA'], alpha=0.7, edgecolors='k', label='Data Points')\n",
    "plt.title('IBOVESPA x WEG', fontsize=16, fontweight='bold')\n",
    "plt.xlabel('IBOVESPA', fontsize=14)\n",
    "plt.ylabel('WEGE3.SA', fontsize=14)\n",
    "plt.grid(alpha=0.3)\n",
    "plt.tight_layout()\n",
    "plt.show()"
   ]
  },
  {
   "cell_type": "code",
   "execution_count": null,
   "metadata": {
    "colab": {
     "base_uri": "https://localhost:8080/"
    },
    "id": "Xi0S28XaCDJG",
    "outputId": "a941d2af-56db-486d-8631-6b279106de11"
   },
   "outputs": [
    {
     "name": "stdout",
     "output_type": "stream",
     "text": [
      "beta: 0.7824370752791248 alpha: 0.001270435077779237 alpha (%): 0.1270435077779237\n"
     ]
    }
   ],
   "source": [
    "#using numpy, calculates wegs beta and alpha\n",
    "beta, alpha = np.polyfit(x = dataset_return['IBOVESPA'], y = dataset_return['WEGE3.SA'], deg = 1)\n",
    "print('beta:', beta, 'alpha:', alpha, 'alpha (%):', alpha * 100)"
   ]
  },
  {
   "cell_type": "code",
   "execution_count": 32,
   "metadata": {
    "colab": {
     "base_uri": "https://localhost:8080/",
     "height": 563
    },
    "id": "eQ3XcEv2Dqfz",
    "outputId": "95351be8-fcef-4758-987e-09d3779b70fd"
   },
   "outputs": [
    {
     "data": {
      "image/png": "[encoded data removed]",
      "text/plain": [
       "<Figure size 1000x600 with 1 Axes>"
      ]
     },
     "metadata": {},
     "output_type": "display_data"
    }
   ],
   "source": [
    "#plot with regression line\n",
    "plt.figure(figsize=(10, 6))\n",
    "plt.scatter(dataset_return['IBOVESPA'], dataset_return['WEGE3.SA'], alpha=0.7, edgecolors='k', label='Data Points')\n",
    "plt.plot(dataset_return['IBOVESPA'], beta * dataset_return['IBOVESPA'] + alpha, color='red', label='Regression Line')\n",
    "\n",
    "plt.title('IBOVESPA x WEG with Regression Line', fontsize=16, fontweight='bold')\n",
    "plt.xlabel('IBOVESPA', fontsize=14)\n",
    "plt.ylabel('WEGE3.SA', fontsize=14)\n",
    "plt.legend(fontsize=12)\n",
    "plt.grid(alpha=0.3)\n",
    "plt.tight_layout()\n",
    "plt.show()"
   ]
  },
  {
   "cell_type": "code",
   "execution_count": null,
   "metadata": {
    "colab": {
     "base_uri": "https://localhost:8080/",
     "height": 133
    },
    "id": "K9zrZU8nE3I5",
    "outputId": "acdf4b49-87ad-4bad-eda5-b447d6479d81"
   },
   "outputs": [
    {
     "data": {
      "text/html": [
       "<div>\n",
       "<style scoped>\n",
       "    .dataframe tbody tr th:only-of-type {\n",
       "        vertical-align: middle;\n",
       "    }\n",
       "\n",
       "    .dataframe tbody tr th {\n",
       "        vertical-align: top;\n",
       "    }\n",
       "\n",
       "    .dataframe thead th {\n",
       "        text-align: right;\n",
       "    }\n",
       "</style>\n",
       "<table border=\"1\" class=\"dataframe\">\n",
       "  <thead>\n",
       "    <tr style=\"text-align: right;\">\n",
       "      <th>Ticker</th>\n",
       "      <th>WEGE3.SA</th>\n",
       "      <th>IBOVESPA</th>\n",
       "    </tr>\n",
       "    <tr>\n",
       "      <th>Ticker</th>\n",
       "      <th></th>\n",
       "      <th></th>\n",
       "    </tr>\n",
       "  </thead>\n",
       "  <tbody>\n",
       "    <tr>\n",
       "      <th>WEGE3.SA</th>\n",
       "      <td>0.131737</td>\n",
       "      <td>0.047586</td>\n",
       "    </tr>\n",
       "    <tr>\n",
       "      <th>IBOVESPA</th>\n",
       "      <td>0.047586</td>\n",
       "      <td>0.060817</td>\n",
       "    </tr>\n",
       "  </tbody>\n",
       "</table>\n",
       "</div>"
      ],
      "text/plain": [
       "Ticker    WEGE3.SA  IBOVESPA\n",
       "Ticker                      \n",
       "WEGE3.SA  0.131737  0.047586\n",
       "IBOVESPA  0.047586  0.060817"
      ]
     },
     "execution_count": 12,
     "metadata": {},
     "output_type": "execute_result"
    }
   ],
   "source": [
    "#covariance matrix between weg and ibov\n",
    "covaciance_matrix = dataset_return.drop(columns = ['ITUB4.SA', 'EGIE3.SA', 'LEVE3.SA', 'VALE3.SA', 'PETR4.SA']).cov() * 252\n",
    "covaciance_matrix"
   ]
  },
  {
   "cell_type": "code",
   "execution_count": null,
   "metadata": {
    "colab": {
     "base_uri": "https://localhost:8080/"
    },
    "id": "9JLrYxc9FsbH",
    "outputId": "741e7a29-9c26-4d26-81e4-2286673183fa"
   },
   "outputs": [
    {
     "data": {
      "text/plain": [
       "0.04758558338546854"
      ]
     },
     "execution_count": 13,
     "metadata": {},
     "output_type": "execute_result"
    }
   ],
   "source": [
    "#wegs covaciance\n",
    "weg_ibov_cov = covaciance_matrix.iloc[1, 0]\n",
    "weg_ibov_cov"
   ]
  },
  {
   "cell_type": "code",
   "execution_count": null,
   "metadata": {
    "colab": {
     "base_uri": "https://localhost:8080/"
    },
    "id": "XsZjFkcMF7zR",
    "outputId": "80136636-843c-41d2-db49-aee6d8e0cd04"
   },
   "outputs": [
    {
     "data": {
      "text/plain": [
       "0.06081713774681871"
      ]
     },
     "execution_count": 14,
     "metadata": {},
     "output_type": "execute_result"
    }
   ],
   "source": [
    "#ibovespa variance\n",
    "ibov_variance = dataset_return['IBOVESPA'].var() * 252\n",
    "ibov_variance"
   ]
  },
  {
   "cell_type": "code",
   "execution_count": null,
   "metadata": {
    "colab": {
     "base_uri": "https://localhost:8080/"
    },
    "id": "isbOGLavGN6F",
    "outputId": "50529ee9-a508-4229-95e4-10c9e805ab50"
   },
   "outputs": [
    {
     "data": {
      "text/plain": [
       "0.7824370752791255"
      ]
     },
     "execution_count": 15,
     "metadata": {},
     "output_type": "execute_result"
    }
   ],
   "source": [
    "#wegs beta\n",
    "beta_weg = weg_ibov_cov / ibov_variance\n",
    "beta_weg"
   ]
  },
  {
   "cell_type": "code",
   "execution_count": 33,
   "metadata": {
    "colab": {
     "base_uri": "https://localhost:8080/"
    },
    "id": "pMU_YVWaHuu2",
    "outputId": "5cf18d89-de4b-4ff4-88ce-9e1d371f7167"
   },
   "outputs": [
    {
     "data": {
      "text/plain": [
       "0.08878868650675324"
      ]
     },
     "execution_count": 33,
     "metadata": {},
     "output_type": "execute_result"
    }
   ],
   "source": [
    "#market return\n",
    "rm = dataset_return['IBOVESPA'].mean() * 252\n",
    "rm"
   ]
  },
  {
   "cell_type": "code",
   "execution_count": null,
   "metadata": {
    "colab": {
     "base_uri": "https://localhost:8080/"
    },
    "id": "aNeQYgRQH5o3",
    "outputId": "39a14074-3e41-49e8-8c9f-a31a6e794f75"
   },
   "outputs": [
    {
     "data": {
      "text/plain": [
       "0.0875"
      ]
     },
     "execution_count": 34,
     "metadata": {},
     "output_type": "execute_result"
    }
   ],
   "source": [
    "#six years of selic rate since 2019, brazils risk free\n",
    "selic_rate = np.array([4.50, 2.00, 9.25, 13.75, 11.75, 11.25])\n",
    "rf = selic_rate.mean() / 100\n",
    "rf"
   ]
  },
  {
   "cell_type": "code",
   "execution_count": null,
   "metadata": {
    "colab": {
     "base_uri": "https://localhost:8080/"
    },
    "id": "hzWvFHYQIIUl",
    "outputId": "d5e8cdd2-8816-476b-b53e-2942ccef9de5"
   },
   "outputs": [
    {
     "data": {
      "text/plain": [
       "0.08850831610129568"
      ]
     },
     "execution_count": 18,
     "metadata": {},
     "output_type": "execute_result"
    }
   ],
   "source": [
    "#weg capm\n",
    "capm_weg = rf + (beta * (rm - rf))\n",
    "capm_weg"
   ]
  },
  {
   "cell_type": "code",
   "execution_count": null,
   "metadata": {
    "id": "Zu6y-DlPJX5u"
   },
   "outputs": [],
   "source": [
    "#beta and alpha for all companies\n",
    "betas = []\n",
    "alphas = []\n",
    "for asset in dataset_return.columns[0:-1]:\n",
    "  beta, alpha = np.polyfit(dataset_return['IBOVESPA'], dataset_return[asset], 1)\n",
    "  betas.append(beta)\n",
    "  alphas.append(alpha)"
   ]
  },
  {
   "cell_type": "code",
   "execution_count": 20,
   "metadata": {
    "colab": {
     "base_uri": "https://localhost:8080/"
    },
    "id": "LLYo0lirKK5z",
    "outputId": "864cb75d-a0e1-47bf-a468-345fd11e78de"
   },
   "outputs": [
    {
     "data": {
      "text/plain": [
       "[0.5585483257044304,\n",
       " 0.9402338096621037,\n",
       " 0.771706952131253,\n",
       " 1.269468407076056,\n",
       " 0.9413775614702115,\n",
       " 0.7824370752791248]"
      ]
     },
     "execution_count": 20,
     "metadata": {},
     "output_type": "execute_result"
    }
   ],
   "source": [
    "betas"
   ]
  },
  {
   "cell_type": "code",
   "execution_count": 21,
   "metadata": {
    "colab": {
     "base_uri": "https://localhost:8080/"
    },
    "id": "5wgeuLU0KNur",
    "outputId": "90a20703-0538-4268-9406-55441130a855"
   },
   "outputs": [
    {
     "data": {
      "text/plain": [
       "[0.0002195561228965553,\n",
       " -4.597247091056617e-05,\n",
       " 0.000436309090832401,\n",
       " 0.0010022371382428395,\n",
       " 0.0003516750371464291,\n",
       " 0.001270435077779237]"
      ]
     },
     "execution_count": 21,
     "metadata": {},
     "output_type": "execute_result"
    }
   ],
   "source": [
    "alphas"
   ]
  },
  {
   "cell_type": "code",
   "execution_count": null,
   "metadata": {
    "id": "OqO7_nyuKaQW"
   },
   "outputs": [
    {
     "name": "stdout",
     "output_type": "stream",
     "text": [
      "EGIE3.SA beta: 0.5585483257044304 alpha: 0.02195561228965553\n",
      "ITUB4.SA beta: 0.9402338096621037 alpha: -0.004597247091056617\n",
      "LEVE3.SA beta: 0.771706952131253 alpha: 0.043630909083240105\n",
      "PETR4.SA beta: 1.269468407076056 alpha: 0.10022371382428395\n",
      "VALE3.SA beta: 0.9413775614702115 alpha: 0.03516750371464291\n",
      "WEGE3.SA beta: 0.7824370752791248 alpha: 0.1270435077779237\n"
     ]
    }
   ],
   "source": [
    "#function to visualize companies betas and alphas\n",
    "def visualize_beta_alpha(betas, alphas):\n",
    "  for i, asset in enumerate(dataset_return.columns[0:-1]):\n",
    "    print(asset, 'beta:', betas[i], 'alpha:', alphas[i] * 100)\n",
    "visualize_beta_alpha(betas, alphas)"
   ]
  },
  {
   "cell_type": "code",
   "execution_count": null,
   "metadata": {
    "colab": {
     "base_uri": "https://localhost:8080/"
    },
    "id": "GHPzw84zLy3M",
    "outputId": "cb14afef-01b9-4661-e67e-0487f351f8de"
   },
   "outputs": [
    {
     "data": {
      "text/plain": [
       "0.05390399993311493"
      ]
     },
     "execution_count": 23,
     "metadata": {},
     "output_type": "execute_result"
    }
   ],
   "source": [
    "#mean of the alphas\n",
    "np.array(alphas).mean() * 100"
   ]
  },
  {
   "cell_type": "code",
   "execution_count": null,
   "metadata": {
    "colab": {
     "base_uri": "https://localhost:8080/"
    },
    "id": "D6U4fLAqMW6p",
    "outputId": "0c35cba4-a2c5-4644-8607-fb9819268f05"
   },
   "outputs": [
    {
     "data": {
      "text/plain": [
       "0.0875"
      ]
     },
     "execution_count": 24,
     "metadata": {},
     "output_type": "execute_result"
    }
   ],
   "source": [
    "#risk free rate\n",
    "rf"
   ]
  },
  {
   "cell_type": "code",
   "execution_count": null,
   "metadata": {
    "colab": {
     "base_uri": "https://localhost:8080/"
    },
    "id": "cGx-ChhVMaD-",
    "outputId": "c156778b-eebb-4b70-f095-bba516e65532"
   },
   "outputs": [
    {
     "data": {
      "text/plain": [
       "0.08878868650675324"
      ]
     },
     "execution_count": 25,
     "metadata": {},
     "output_type": "execute_result"
    }
   ],
   "source": [
    "#market return\n",
    "rm"
   ]
  },
  {
   "cell_type": "code",
   "execution_count": null,
   "metadata": {
    "id": "cfVz6XnQMeNp"
   },
   "outputs": [],
   "source": [
    "#capm of the companies\n",
    "capm_companies = []\n",
    "for i, asset in enumerate(dataset_return.columns[0:-1]):\n",
    "  capm_companies.append(rf + (betas[i] * (rm - rf)))"
   ]
  },
  {
   "cell_type": "code",
   "execution_count": 27,
   "metadata": {
    "colab": {
     "base_uri": "https://localhost:8080/"
    },
    "id": "r047-dQlMzvF",
    "outputId": "49398423-6ed6-4535-b530-7dd2d429419b"
   },
   "outputs": [
    {
     "data": {
      "text/plain": [
       "[0.08821979369070491,\n",
       " 0.08871166662370475,\n",
       " 0.08849448833637921,\n",
       " 0.08913594680694845,\n",
       " 0.08871314056122694,\n",
       " 0.08850831610129568]"
      ]
     },
     "execution_count": 27,
     "metadata": {},
     "output_type": "execute_result"
    }
   ],
   "source": [
    "capm_companies"
   ]
  },
  {
   "cell_type": "code",
   "execution_count": null,
   "metadata": {
    "id": "Sakwt3d_M3Ie"
   },
   "outputs": [],
   "source": [
    "#print camp for each companie\n",
    "def visualize_capm(capm):\n",
    "  for i, asset in enumerate(dataset_return.columns[0:-1]):\n",
    "    print(asset, 'CAPM:', capm[i] * 100)"
   ]
  },
  {
   "cell_type": "code",
   "execution_count": 29,
   "metadata": {
    "colab": {
     "base_uri": "https://localhost:8080/"
    },
    "id": "8ZE4y880NDSe",
    "outputId": "ad03e3ff-19b8-474e-d5fa-d2ba4d50bb5a"
   },
   "outputs": [
    {
     "name": "stdout",
     "output_type": "stream",
     "text": [
      "EGIE3.SA CAPM: 8.821979369070492\n",
      "ITUB4.SA CAPM: 8.871166662370475\n",
      "LEVE3.SA CAPM: 8.849448833637922\n",
      "PETR4.SA CAPM: 8.913594680694844\n",
      "VALE3.SA CAPM: 8.871314056122694\n",
      "WEGE3.SA CAPM: 8.850831610129568\n"
     ]
    }
   ],
   "source": [
    "visualize_capm(capm_companies)"
   ]
  },
  {
   "cell_type": "code",
   "execution_count": null,
   "metadata": {
    "id": "s6IqRPNANTbZ"
   },
   "outputs": [],
   "source": [
    "#defining weights of asset in the portfolio\n",
    "weights = np.array([0.17, 0.17, 0.17, 0.17, 0.17, 0.15])"
   ]
  },
  {
   "cell_type": "code",
   "execution_count": null,
   "metadata": {
    "colab": {
     "base_uri": "https://localhost:8080/"
    },
    "id": "0PxtAgr0Nb6P",
    "outputId": "af0ab9ec-5a1a-4232-a3e1-6a4569f3cd81"
   },
   "outputs": [
    {
     "data": {
      "text/plain": [
       "8.863300353841828"
      ]
     },
     "execution_count": 31,
     "metadata": {},
     "output_type": "execute_result"
    }
   ],
   "source": [
    "# portfolios capm\n",
    "capm_portfolio = np.sum(capm_companies * weights) * 100\n",
    "capm_portfolio"
   ]
  }
 ],
 "metadata": {
  "colab": {
   "provenance": []
  },
  "kernelspec": {
   "display_name": "Python 3",
   "name": "python3"
  },
  "language_info": {
   "codemirror_mode": {
    "name": "ipython",
    "version": 3
   },
   "file_extension": ".py",
   "mimetype": "text/x-python",
   "name": "python",
   "nbconvert_exporter": "python",
   "pygments_lexer": "ipython3",
   "version": "3.12.2"
  }
 },
 "nbformat": 4,
 "nbformat_minor": 0
}
